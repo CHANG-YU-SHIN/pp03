{
 "cells": [
  {
   "cell_type": "code",
   "execution_count": 2,
   "metadata": {},
   "outputs": [
    {
     "name": "stdout",
     "output_type": "stream",
     "text": [
      "頂好購物\n",
      "['電池', '洗碗精', '洗衣粉', '衣架', '掃把', '拖把', '烤肉夾'] \n",
      "\n",
      "輸入要買的商品(不買就按Q):衣架\n",
      "輸入要買的商品(不買就按Q):洗衣粉\n",
      "輸入要買的商品(不買就按Q):電池\n",
      "輸入要買的商品(不買就按Q):q\n",
      "剛剛下單的物品有: ['衣架', '洗衣粉', '電池']\n"
     ]
    }
   ],
   "source": [
    "store='頂好購物'\n",
    "products=['電池','洗碗精','洗衣粉','衣架','掃把','拖把','烤肉夾']\n",
    "cart=[]\n",
    "print(store)\n",
    "print(products,'\\n')\n",
    "while True:\n",
    "    msg=input(\"輸入要買的商品(不買就按Q):\")\n",
    "    if msg=='q' or msg=='Q':\n",
    "        break\n",
    "    else:\n",
    "        if msg in products:\n",
    "            cart.append(msg)\n",
    "print(\"剛剛下單的物品有:\", cart)"
   ]
  },
  {
   "cell_type": "code",
   "execution_count": null,
   "metadata": {},
   "outputs": [],
   "source": []
  }
 ],
 "metadata": {
  "kernelspec": {
   "display_name": "Python 3",
   "language": "python",
   "name": "python3"
  },
  "language_info": {
   "codemirror_mode": {
    "name": "ipython",
    "version": 3
   },
   "file_extension": ".py",
   "mimetype": "text/x-python",
   "name": "python",
   "nbconvert_exporter": "python",
   "pygments_lexer": "ipython3",
   "version": "3.7.0"
  }
 },
 "nbformat": 4,
 "nbformat_minor": 2
}
