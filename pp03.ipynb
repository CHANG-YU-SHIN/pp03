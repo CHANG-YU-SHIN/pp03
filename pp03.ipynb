{
 "cells": [
  {
   "cell_type": "markdown",
   "metadata": {},
   "source": [
    "$製作大型串列資料$"
   ]
  },
  {
   "cell_type": "code",
   "execution_count": 1,
   "metadata": {},
   "outputs": [
    {
     "data": {
      "text/plain": [
       "list"
      ]
     },
     "execution_count": 1,
     "metadata": {},
     "output_type": "execute_result"
    }
   ],
   "source": [
    "asia =['Japan','China','Korea','Taiwan','India','Thailand']\n",
    "europe=['UK','France','Germany','Italy','Spain','Portugal']\n",
    "america=['USA','Canada','Brazil','Mexico','Cuba','Chile']\n",
    "world=[asia,europe,america]\n",
    "\n",
    "type(world)"
   ]
  },
  {
   "cell_type": "code",
   "execution_count": 2,
   "metadata": {},
   "outputs": [
    {
     "data": {
      "text/plain": [
       "[['Japan', 'China', 'Korea', 'Taiwan', 'India', 'Thailand'],\n",
       " ['UK', 'France', 'Germany', 'Italy', 'Spain', 'Portugal'],\n",
       " ['USA', 'Canada', 'Brazil', 'Mexico', 'Cuba', 'Chile']]"
      ]
     },
     "execution_count": 2,
     "metadata": {},
     "output_type": "execute_result"
    }
   ],
   "source": [
    "world"
   ]
  },
  {
   "cell_type": "markdown",
   "metadata": {},
   "source": [
    "$使用者帳號管理系統$"
   ]
  },
  {
   "cell_type": "code",
   "execution_count": 3,
   "metadata": {},
   "outputs": [
    {
     "name": "stdout",
     "output_type": "stream",
     "text": [
      "請輸入新帳號=lovecindyforever\n",
      "測試者系統:\n",
      "請輸入帳號=lovecindyforever\n",
      "歡迎來到測試系統!\n"
     ]
    }
   ],
   "source": [
    "accounts=[]\n",
    "account=input(\"請輸入新帳號=\")\n",
    "accounts.append(account)\n",
    "\n",
    "print(\"測試者系統:\")\n",
    "ac = input(\"請輸入帳號=\")\n",
    "if ac in accounts:\n",
    "    print(\"歡迎來到測試系統!\")\n",
    "else:\n",
    "    print(\"帳號有誤，不能進來\")"
   ]
  },
  {
   "cell_type": "markdown",
   "metadata": {},
   "source": [
    "$習題$"
   ]
  },
  {
   "cell_type": "code",
   "execution_count": 17,
   "metadata": {},
   "outputs": [
    {
     "name": "stdout",
     "output_type": "stream",
     "text": [
      "最高分是 99分\n",
      "最低分是 52分\n",
      "總分是 655分\n",
      "分數有8個\n",
      "平均是 81分\n"
     ]
    }
   ],
   "source": [
    "test_score=[87,99,69,52,78,98,80,92]\n",
    "max(test_score)\n",
    "print(\"最高分是 %d分\" % max(test_score))\n",
    "min(test_score)\n",
    "print(\"最低分是 %d分\" % min(test_score))\n",
    "sum(test_score)\n",
    "print(\"總分是 %d分\" % sum(test_score))\n",
    "len(test_score)\n",
    "print(\"分數有%d個\" %len(test_score))\n",
    "ave=sum(test_score)/len(test_score)\n",
    "print(\"平均是 %d分\" % ave)"
   ]
  },
  {
   "cell_type": "code",
   "execution_count": null,
   "metadata": {},
   "outputs": [],
   "source": []
  }
 ],
 "metadata": {
  "kernelspec": {
   "display_name": "Python 3",
   "language": "python",
   "name": "python3"
  },
  "language_info": {
   "codemirror_mode": {
    "name": "ipython",
    "version": 3
   },
   "file_extension": ".py",
   "mimetype": "text/x-python",
   "name": "python",
   "nbconvert_exporter": "python",
   "pygments_lexer": "ipython3",
   "version": "3.7.0"
  }
 },
 "nbformat": 4,
 "nbformat_minor": 2
}
